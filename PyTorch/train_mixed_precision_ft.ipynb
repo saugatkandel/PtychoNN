{
 "cells": [
  {
   "cell_type": "code",
   "execution_count": 2,
   "id": "d1dcd68a-e51f-4eff-994c-c438e27b4962",
   "metadata": {
    "id": "d1dcd68a-e51f-4eff-994c-c438e27b4962"
   },
   "outputs": [],
   "source": [
    "import torch, torchvision\n",
    "import torch.nn as nn\n",
    "import torch.optim as optim\n",
    "import torch.nn.functional as F\n",
    "from torchsummary import summary\n",
    "from torch.utils.data import TensorDataset, DataLoader\n",
    "\n",
    "from tqdm import tqdm \n",
    "import numpy as np\n",
    "from skimage.transform import resize\n",
    "from numpy.fft import fftn, fftshift\n",
    "\n",
    "import matplotlib.pyplot as plt\n",
    "import matplotlib\n",
    "\n",
    "import os\n",
    "\n",
    "from sklearn.utils import shuffle\n",
    "from sklearn.model_selection import train_test_split"
   ]
  },
  {
   "cell_type": "code",
   "execution_count": 3,
   "id": "cf783267-ea66-4030-9beb-02dfc834ce9a",
   "metadata": {},
   "outputs": [
    {
     "data": {
      "text/plain": [
       "'1.6.0'"
      ]
     },
     "execution_count": 3,
     "metadata": {},
     "output_type": "execute_result"
    }
   ],
   "source": [
    "torch.__version__"
   ]
  },
  {
   "cell_type": "code",
   "execution_count": 4,
   "id": "CZMN-u2IMGeq",
   "metadata": {
    "id": "CZMN-u2IMGeq"
   },
   "outputs": [],
   "source": [
    "#!wget -L https://github.com/mcherukara/PtychoNN/blob/master/data/20191008_39_amp_pha_10nm_full.npy?raw=true \n",
    "#!wget -L https://github.com/mcherukara/PtychoNN/blob/master/data/20191008_39_diff.npz?raw=true\n"
   ]
  },
  {
   "cell_type": "code",
   "execution_count": 5,
   "id": "fa560ce7-c20a-4759-9d6f-7b504d97713d",
   "metadata": {
    "colab": {
     "base_uri": "https://localhost:8080/",
     "height": 34
    },
    "id": "fa560ce7-c20a-4759-9d6f-7b504d97713d",
    "outputId": "b29a8109-d0cb-4d4d-f820-52a9ebf07c6b"
   },
   "outputs": [
    {
     "data": {
      "text/plain": [
       "<Figure size 432x288 with 0 Axes>"
      ]
     },
     "metadata": {},
     "output_type": "display_data"
    }
   ],
   "source": [
    "plt.style.use('seaborn-white')\n",
    "#matplotlib.rc('xtick', labelsize=20) \n",
    "#matplotlib.rc('ytick', labelsize=20)\n",
    "matplotlib.rc('font',family='Times New Roman')\n",
    "matplotlib.rcParams['font.size'] = 20\n",
    "plt.viridis()"
   ]
  },
  {
   "cell_type": "code",
   "execution_count": 6,
   "id": "2d9c65d9-d540-4a79-980b-cbe3e0ee5b3c",
   "metadata": {
    "id": "2d9c65d9-d540-4a79-980b-cbe3e0ee5b3c"
   },
   "outputs": [],
   "source": [
    "def plot3(data,titles):\n",
    "    if(len(titles)<3):\n",
    "        titles=[\"Plot1\", \"Plot2\", \"Plot3\"]\n",
    "    fig,ax = plt.subplots(1,3, figsize=(20,12))\n",
    "    im=ax[0].imshow(data[0])\n",
    "    ax[0].set_title(titles[0])\n",
    "    ax[0].axis('off')\n",
    "    plt.colorbar(im,ax=ax[0], fraction=0.046, pad=0.04)\n",
    "    im=ax[1].imshow(data[1])\n",
    "    ax[1].set_title(titles[1])\n",
    "    ax[1].axis('off')\n",
    "    plt.colorbar(im,ax=ax[1], fraction=0.046, pad=0.04)\n",
    "    im=ax[2].imshow(data[2])\n",
    "    ax[2].set_title(titles[2])\n",
    "    ax[2].axis('off')\n",
    "    plt.colorbar(im,ax=ax[2], fraction=0.046, pad=0.04)"
   ]
  },
  {
   "cell_type": "code",
   "execution_count": 7,
   "id": "58f0b9d3-e572-41d5-9c2d-17f0dd001c71",
   "metadata": {},
   "outputs": [
    {
     "data": {
      "text/plain": [
       "2"
      ]
     },
     "execution_count": 7,
     "metadata": {},
     "output_type": "execute_result"
    }
   ],
   "source": [
    "torch.cuda.device_count()"
   ]
  },
  {
   "cell_type": "code",
   "execution_count": 8,
   "id": "52ee3fae-f641-4538-a2ec-6f6161166faf",
   "metadata": {
    "colab": {
     "base_uri": "https://localhost:8080/"
    },
    "id": "52ee3fae-f641-4538-a2ec-6f6161166faf",
    "outputId": "cb3c1887-467c-4f60-d27f-550ad679f2dc"
   },
   "outputs": [
    {
     "name": "stdout",
     "output_type": "stream",
     "text": [
      "GPUs: 2 Batch size: 128 Learning rate: 0.001\n"
     ]
    }
   ],
   "source": [
    "EPOCHS = 20\n",
    "NGPUS = torch.cuda.device_count()\n",
    "BATCH_SIZE = NGPUS * 64\n",
    "LR = 1e-3 \n",
    "print(\"GPUs:\", NGPUS, \"Batch size:\", BATCH_SIZE, \"Learning rate:\", LR)"
   ]
  },
  {
   "cell_type": "code",
   "execution_count": 9,
   "id": "87cfaab9-8940-472a-b9c5-8990988bc13c",
   "metadata": {
    "id": "87cfaab9-8940-472a-b9c5-8990988bc13c"
   },
   "outputs": [],
   "source": [
    "H,W = 64,64\n",
    "NLINES = 100 #How many lines of data to use for training?\n",
    "NLTEST = 60 #How many lines for the test set?\n",
    "\n",
    "N_VALID = 805 #How much to reserve for validation"
   ]
  },
  {
   "cell_type": "code",
   "execution_count": 10,
   "id": "62c4eef8-8ad3-4d92-98d3-17569a593e19",
   "metadata": {
    "id": "62c4eef8-8ad3-4d92-98d3-17569a593e19"
   },
   "outputs": [],
   "source": [
    "path = os.getcwd()\n",
    "\n",
    "MODEL_SAVE_PATH = path +'/trained_model_ft/'\n",
    "if (not os.path.isdir(MODEL_SAVE_PATH)):\n",
    "    os.mkdir(MODEL_SAVE_PATH)"
   ]
  },
  {
   "cell_type": "code",
   "execution_count": 11,
   "id": "1f3c6b18-f9fc-407f-9446-3887de846cc6",
   "metadata": {
    "colab": {
     "base_uri": "https://localhost:8080/"
    },
    "id": "1f3c6b18-f9fc-407f-9446-3887de846cc6",
    "outputId": "5e61384d-305b-467e-b22b-19b0fb6730a3"
   },
   "outputs": [],
   "source": [
    "data_diffr = np.load('../data/20191008_39_diff.npz')['arr_0']#np.load(path+'/../data/20191008_39_diff.npz')['arr_0']\n",
    "real_space = np.load('../data/20191008_39_amp_pha_10nm_full.npy')#np.load(path+'/../data/20191008_39_amp_pha_10nm_full.npy')"
   ]
  },
  {
   "cell_type": "code",
   "execution_count": 12,
   "id": "8d07db4d-7561-40a6-a16c-e458b20a0b0c",
   "metadata": {},
   "outputs": [
    {
     "data": {
      "text/plain": [
       "(161, 161, 64, 64)"
      ]
     },
     "execution_count": 12,
     "metadata": {},
     "output_type": "execute_result"
    }
   ],
   "source": [
    "amp = np.abs(real_space)\n",
    "ph = np.angle(real_space)\n",
    "amp.shape"
   ]
  },
  {
   "cell_type": "code",
   "execution_count": 13,
   "id": "0d0d6458-400f-429e-802c-a8e4ffd6e9be",
   "metadata": {
    "colab": {
     "base_uri": "https://localhost:8080/"
    },
    "id": "0d0d6458-400f-429e-802c-a8e4ffd6e9be",
    "outputId": "fd58bd18-8690-40ef-b061-a16072c357dc"
   },
   "outputs": [],
   "source": [
    "try:\n",
    "    data_diffr_red = np.load('../data/20191008_39_diff_reduced.npz')['arr_0']\n",
    "except:\n",
    "    print(data_diffr.shape)\n",
    "    #plt.matshow(np.log10(data_diffr[0,0]))\n",
    "\n",
    "    data_diffr_red = np.zeros((data_diffr.shape[0],data_diffr.shape[1],64,64), dtype=float)\n",
    "    for i in tqdm(range(data_diffr.shape[0])):\n",
    "        for j in range(data_diffr.shape[1]):\n",
    "            data_diffr_red[i,j] = resize(data_diffr[i,j,32:-32,32:-32],(64,64),preserve_range=True, anti_aliasing=True)\n",
    "            data_diffr_red[i,j] = np.where(data_diffr_red[i,j]<3,0,data_diffr_red[i,j])\n",
    "    np.savez_compressed('../data/20191008_39_diff_reduced.npz', data_diffr_red)"
   ]
  },
  {
   "cell_type": "code",
   "execution_count": 14,
   "id": "c60a0296-10d7-4b46-bd58-87635e637167",
   "metadata": {},
   "outputs": [
    {
     "data": {
      "text/plain": [
       "((161, 161, 256, 256), (161, 161, 64, 64))"
      ]
     },
     "execution_count": 14,
     "metadata": {},
     "output_type": "execute_result"
    }
   ],
   "source": [
    "data_diffr.shape, data_diffr_red.shape"
   ]
  },
  {
   "cell_type": "code",
   "execution_count": 15,
   "id": "e673c0e5-a6d2-4d59-800c-2f055a86e7ab",
   "metadata": {
    "colab": {
     "base_uri": "https://localhost:8080/"
    },
    "id": "e673c0e5-a6d2-4d59-800c-2f055a86e7ab",
    "outputId": "cc2fce42-dd97-46ce-8508-ed80707d93e4"
   },
   "outputs": [
    {
     "name": "stdout",
     "output_type": "stream",
     "text": [
      "101\n",
      "(16100, 1, 64, 64) (3600, 1, 64, 64)\n"
     ]
    }
   ],
   "source": [
    "tst_strt = amp.shape[0]-NLTEST #Where to index from\n",
    "print(tst_strt)\n",
    "\n",
    "X_train = data_diffr_red[:NLINES,:].reshape(-1,H,W)[:,np.newaxis,:,:]\n",
    "X_test = data_diffr_red[tst_strt:,tst_strt:].reshape(-1,H,W)[:,np.newaxis,:,:]\n",
    "Y_I_train = amp[:NLINES,:].reshape(-1,H,W)[:,np.newaxis,:,:]\n",
    "Y_I_test = amp[tst_strt:,tst_strt:].reshape(-1,H,W)[:,np.newaxis,:,:]\n",
    "Y_phi_train = ph[:NLINES,:].reshape(-1,H,W)[:,np.newaxis,:,:]\n",
    "Y_phi_test = ph[tst_strt:,tst_strt:].reshape(-1,H,W)[:,np.newaxis,:,:]\n",
    "\n",
    "ntrain = X_train.shape[0]*X_train.shape[1]\n",
    "ntest = X_test.shape[0]*X_test.shape[1]\n",
    "\n",
    "print(X_train.shape, X_test.shape)\n",
    "\n",
    "X_train, Y_I_train, Y_phi_train = shuffle(X_train, Y_I_train, Y_phi_train, random_state=0)"
   ]
  },
  {
   "cell_type": "code",
   "execution_count": 16,
   "id": "138bc432-d000-4c5b-a200-2fc422c44234",
   "metadata": {},
   "outputs": [],
   "source": [
    "Y_cmplx_train = Y_I_train * np.exp(1j * Y_phi_train)\n",
    "Y_ft_train = np.fft.fftshift(np.fft.fft2(np.fft.fftshift(Y_cmplx_train, axes=(-1,-2)), norm='ortho'), axes=(-1,-2))"
   ]
  },
  {
   "cell_type": "code",
   "execution_count": 19,
   "id": "448b922a-0064-44c6-8f13-ea9c98cd9931",
   "metadata": {},
   "outputs": [],
   "source": [
    "Y_I_ft_train = np.abs(Y_ft_train)\n",
    "Y_phi_ft_train = np.angle(Y_ft_train)"
   ]
  },
  {
   "cell_type": "code",
   "execution_count": 20,
   "id": "7cb01541-b5d6-4e57-a511-b0585d76cf2d",
   "metadata": {},
   "outputs": [
    {
     "data": {
      "text/plain": [
       "<matplotlib.colorbar.Colorbar at 0x7f769e3878b0>"
      ]
     },
     "execution_count": 20,
     "metadata": {},
     "output_type": "execute_result"
    },
    {
     "name": "stderr",
     "output_type": "stream",
     "text": [
      "findfont: Font family ['Times New Roman'] not found. Falling back to DejaVu Sans.\n"
     ]
    },
    {
     "data": {
      "image/png": "[encoded data removed]",
      "text/plain": [
       "<Figure size 432x288 with 2 Axes>"
      ]
     },
     "metadata": {},
     "output_type": "display_data"
    }
   ],
   "source": [
    "plt.pcolormesh(Y_phi_ft_train[10, 0])\n",
    "plt.colorbar()"
   ]
  },
  {
   "cell_type": "code",
   "execution_count": 17,
   "id": "6a2fc8e9-16e4-463b-92f5-6b9324dec9cd",
   "metadata": {
    "colab": {
     "base_uri": "https://localhost:8080/"
    },
    "id": "6a2fc8e9-16e4-463b-92f5-6b9324dec9cd",
    "outputId": "d6a0e327-84ed-4f9a-ff83-36c8f31a43d3"
   },
   "outputs": [
    {
     "name": "stdout",
     "output_type": "stream",
     "text": [
      "3.1268637 -1.564053\n",
      "torch.Size([16100, 1, 64, 64]) torch.Size([16100, 1, 64, 64]) torch.Size([16100, 1, 64, 64])\n"
     ]
    }
   ],
   "source": [
    "#Training data\n",
    "X_train_tensor = torch.Tensor(X_train) \n",
    "Y_I_train_tensor = torch.Tensor(Y_I_train) \n",
    "Y_phi_train_tensor = torch.Tensor(Y_phi_train)\n",
    "\n",
    "#Test data\n",
    "X_test_tensor = torch.Tensor(X_test) \n",
    "Y_I_test_tensor = torch.Tensor(Y_I_test) \n",
    "Y_phi_test_tensor = torch.Tensor(Y_phi_test)\n",
    "\n",
    "print(Y_phi_train.max(), Y_phi_train.min())\n",
    "\n",
    "print(X_train_tensor.shape, Y_I_train_tensor.shape, Y_phi_train_tensor.shape)\n",
    "\n",
    "train_data = TensorDataset(X_train_tensor,Y_I_train_tensor,Y_phi_train_tensor)\n",
    "test_data = TensorDataset(X_test_tensor)"
   ]
  },
  {
   "cell_type": "code",
   "execution_count": 18,
   "id": "c21f6294-34fd-4dc8-8e7d-5fe3ec03b61a",
   "metadata": {
    "colab": {
     "base_uri": "https://localhost:8080/"
    },
    "id": "c21f6294-34fd-4dc8-8e7d-5fe3ec03b61a",
    "outputId": "44dd7404-981f-458b-c840-bccdcf0cb5ed"
   },
   "outputs": [
    {
     "name": "stdout",
     "output_type": "stream",
     "text": [
      "15295 805 3600\n"
     ]
    }
   ],
   "source": [
    "N_TRAIN = X_train_tensor.shape[0]\n",
    "train_data2, valid_data = torch.utils.data.random_split(train_data,[N_TRAIN-N_VALID,N_VALID])\n",
    "print(len(train_data2),len(valid_data),len(test_data))"
   ]
  },
  {
   "cell_type": "code",
   "execution_count": 19,
   "id": "fc3d9a47-3006-40b5-8d99-424e7e94e210",
   "metadata": {
    "colab": {
     "base_uri": "https://localhost:8080/"
    },
    "id": "fc3d9a47-3006-40b5-8d99-424e7e94e210",
    "outputId": "01624ee6-018a-4f59-faee-477058862d96"
   },
   "outputs": [],
   "source": [
    "#download and load training data\n",
    "trainloader = DataLoader(train_data2, batch_size=BATCH_SIZE, shuffle=True, num_workers=4)\n",
    "\n",
    "validloader = DataLoader(valid_data, batch_size=BATCH_SIZE, shuffle=True, num_workers=4)\n",
    "\n",
    "#same for test\n",
    "#download and load training data\n",
    "testloader = DataLoader(test_data, batch_size=BATCH_SIZE, shuffle=False, num_workers=4)"
   ]
  },
  {
   "cell_type": "code",
   "execution_count": 20,
   "id": "b39d88d8-7931-45b2-b2b7-51d0329aebba",
   "metadata": {},
   "outputs": [],
   "source": [
    "def roll_n(X, axis, n):\n",
    "    f_idx = tuple(slice(None, None, None) if i != axis else slice(0, n, None)\n",
    "                  for i in range(X.dim()))\n",
    "    b_idx = tuple(slice(None, None, None) if i != axis else slice(n, None, None)\n",
    "                  for i in range(X.dim()))\n",
    "    front = X[f_idx]\n",
    "    back = X[b_idx]\n",
    "    return torch.cat([back, front], axis)\n",
    "\n",
    "def fftshift(X):\n",
    "    # batch*channel*...*2\n",
    "    real, imag = X.chunk(chunks=2, dim=-1)\n",
    "    real, imag = real.squeeze(dim=-1), imag.squeeze(dim=-1)\n",
    "\n",
    "    for dim in range(2, len(real.size())):\n",
    "        real = roll_n(real, axis=dim, n=int(np.ceil(real.size(dim) / 2)))\n",
    "        imag = roll_n(imag, axis=dim, n=int(np.ceil(imag.size(dim) / 2)))\n",
    "\n",
    "    real, imag = real.unsqueeze(dim=-1), imag.unsqueeze(dim=-1)\n",
    "    X = torch.cat((real,imag),dim=-1)\n",
    "    return X\n",
    "\n",
    "def ifftshift(X):\n",
    "    # batch*channel*...*2\n",
    "    real, imag = X.chunk(chunks=2, dim=-1)\n",
    "    real, imag = real.squeeze(dim=-1), imag.squeeze(dim=-1)\n",
    "\n",
    "    for dim in range(len(real.size()) - 1, 1, -1):\n",
    "        real = roll_n(real, axis=dim, n=int(np.floor(real.size(dim) / 2)))\n",
    "        imag = roll_n(imag, axis=dim, n=int(np.floor(imag.size(dim) / 2)))\n",
    "\n",
    "    real, imag = real.unsqueeze(dim=-1), imag.unsqueeze(dim=-1)\n",
    "    X = torch.cat((real, imag), dim=-1)\n",
    "\n",
    "    return X"
   ]
  },
  {
   "cell_type": "code",
   "execution_count": 21,
   "id": "a7c276e8-f708-47a5-93ed-392a6b7c1642",
   "metadata": {
    "id": "a7c276e8-f708-47a5-93ed-392a6b7c1642"
   },
   "outputs": [],
   "source": [
    "nconv = 32\n",
    "\n",
    "\n",
    "class recon_model(nn.Module):\n",
    "\n",
    "    def __init__(self):\n",
    "        super(recon_model, self).__init__()\n",
    "\n",
    "\n",
    "        self.encoder = nn.Sequential( # Appears sequential has similar functionality as TF avoiding need for separate model definition and activ\n",
    "          nn.Conv2d(in_channels=1, out_channels=nconv, kernel_size=3, stride=1, padding=(1,1)),\n",
    "          nn.ReLU(),\n",
    "          nn.Conv2d(nconv, nconv, 3, stride=1, padding=(1,1)),\n",
    "          nn.ReLU(),\n",
    "          nn.MaxPool2d((2,2)),\n",
    "\n",
    "          nn.Conv2d(nconv, nconv*2, 3, stride=1, padding=(1,1)),\n",
    "          nn.ReLU(),\n",
    "          nn.Conv2d(nconv*2, nconv*2, 3, stride=1, padding=(1,1)),          \n",
    "          nn.ReLU(),\n",
    "          nn.MaxPool2d((2,2)),\n",
    "\n",
    "          nn.Conv2d(nconv*2, nconv*4, 3, stride=1, padding=(1,1)),\n",
    "          nn.ReLU(),\n",
    "          nn.Conv2d(nconv*4, nconv*4, 3, stride=1, padding=(1,1)),          \n",
    "          nn.ReLU(),\n",
    "          nn.MaxPool2d((2,2)),\n",
    "          )\n",
    "\n",
    "        self.decoder1 = nn.Sequential(\n",
    "\n",
    "          nn.Conv2d(nconv*4, nconv*4, 3, stride=1, padding=(1,1)),\n",
    "          nn.ReLU(),\n",
    "          nn.Conv2d(nconv*4, nconv*4, 3, stride=1, padding=(1,1)),\n",
    "          nn.ReLU(),\n",
    "          nn.Upsample(scale_factor=2, mode='bilinear'),\n",
    "\n",
    "          nn.Conv2d(nconv*4, nconv*2, 3, stride=1, padding=(1,1)),\n",
    "          nn.ReLU(),\n",
    "          nn.Conv2d(nconv*2, nconv*2, 3, stride=1, padding=(1,1)),\n",
    "          nn.ReLU(),\n",
    "          nn.Upsample(scale_factor=2, mode='bilinear'),\n",
    "            \n",
    "          nn.Conv2d(nconv*2, nconv*2, 3, stride=1, padding=(1,1)),\n",
    "          nn.ReLU(),\n",
    "          nn.Conv2d(nconv*2, nconv*2, 3, stride=1, padding=(1,1)),\n",
    "          nn.ReLU(),\n",
    "          nn.Upsample(scale_factor=2, mode='bilinear'),\n",
    "\n",
    "          nn.Conv2d(nconv*2, 1, 3, stride=1, padding=(1,1)),\n",
    "          nn.Sigmoid() #Amplitude model\n",
    "          )\n",
    "\n",
    "        self.decoder2 = nn.Sequential(\n",
    "\n",
    "          nn.Conv2d(nconv*4, nconv*4, 3, stride=1, padding=(1,1)),\n",
    "          nn.ReLU(),\n",
    "          nn.Conv2d(nconv*4, nconv*4, 3, stride=1, padding=(1,1)),\n",
    "          nn.ReLU(),\n",
    "          nn.Upsample(scale_factor=2, mode='bilinear'),\n",
    "\n",
    "          nn.Conv2d(nconv*4, nconv*2, 3, stride=1, padding=(1,1)),\n",
    "          nn.ReLU(),\n",
    "          nn.Conv2d(nconv*2, nconv*2, 3, stride=1, padding=(1,1)),\n",
    "          nn.ReLU(),\n",
    "          nn.Upsample(scale_factor=2, mode='bilinear'),\n",
    "            \n",
    "          nn.Conv2d(nconv*2, nconv*2, 3, stride=1, padding=(1,1)),\n",
    "          nn.ReLU(),\n",
    "          nn.Conv2d(nconv*2, nconv*2, 3, stride=1, padding=(1,1)),\n",
    "          nn.ReLU(),\n",
    "          nn.Upsample(scale_factor=2, mode='bilinear'),\n",
    "\n",
    "          nn.Conv2d(nconv*2, 1, 3, stride=1, padding=(1,1)),\n",
    "          nn.Tanh() #Phase model\n",
    "          )\n",
    "    \n",
    "    def forward(self,x):\n",
    "        with torch.cuda.amp.autocast():\n",
    "            x1 = self.encoder(x)\n",
    "            amp = self.decoder1(x1)\n",
    "            ph = self.decoder2(x1)\n",
    "\n",
    "            #Restore -pi to pi range\n",
    "            ph = ph*np.pi #Using tanh activation (-1 to 1) for phase so multiply by pi\n",
    "            \n",
    "            cmplx = torch.cat((amp * torch.cos(ph), amp * torch.sin(ph)), -1).reshape(*amp.shape, 2)\n",
    "            cmplx_ft = fftshift(torch.ifft(cmplx, 2, normalized=True))\n",
    "            return_amp = (cmplx_ft[...,0]**2 + cmplx_ft[...,1]**2)**0.5\n",
    "            return_ph = torch.atan2(cmplx_ft[...,1], cmplx_ft[...,0])\n",
    "\n",
    "        return return_amp, return_ph\n",
    "    "
   ]
  },
  {
   "cell_type": "code",
   "execution_count": 22,
   "id": "0d9a4ac7-87a5-4863-9202-bc2252f27b58",
   "metadata": {
    "colab": {
     "base_uri": "https://localhost:8080/"
    },
    "id": "0d9a4ac7-87a5-4863-9202-bc2252f27b58",
    "outputId": "5b01fea2-830a-412a-fd0e-34b94f63b748"
   },
   "outputs": [
    {
     "name": "stdout",
     "output_type": "stream",
     "text": [
      "batch size: torch.Size([128, 1, 64, 64])\n"
     ]
    },
    {
     "name": "stderr",
     "output_type": "stream",
     "text": [
      "/home/skandel/miniconda3/envs/tf2/lib/python3.8/site-packages/torch/nn/functional.py:3118: UserWarning: Default upsampling behavior when mode=bilinear is changed to align_corners=False since 0.4.0. Please specify align_corners=True if the old behavior is desired. See the documentation of nn.Upsample for details.\n",
      "  warnings.warn(\"Default upsampling behavior when mode={} is changed \"\n"
     ]
    },
    {
     "name": "stdout",
     "output_type": "stream",
     "text": [
      "torch.Size([128, 1, 64, 64]) torch.Size([128, 1, 64, 64])\n",
      "torch.float32 torch.float32\n"
     ]
    }
   ],
   "source": [
    "model = recon_model()\n",
    "for ft_images,amps,phs in trainloader:\n",
    "    print(\"batch size:\", ft_images.shape)\n",
    "    amp_train, ph_train = model(ft_images)\n",
    "    print(amp_train.shape, ph_train.shape)\n",
    "    print(amp_train.dtype, ph_train.dtype)\n",
    "    break"
   ]
  },
  {
   "cell_type": "code",
   "execution_count": 23,
   "id": "2a1f5ee2-a356-4362-bb2b-42fed803adbc",
   "metadata": {
    "colab": {
     "base_uri": "https://localhost:8080/"
    },
    "id": "2a1f5ee2-a356-4362-bb2b-42fed803adbc",
    "outputId": "b628371c-4970-420a-80e6-c9f8f8541435"
   },
   "outputs": [
    {
     "name": "stdout",
     "output_type": "stream",
     "text": [
      "==========================================================================================\n",
      "Layer (type:depth-idx)                   Output Shape              Param #\n",
      "==========================================================================================\n",
      "├─Sequential: 1-1                        [-1, 128, 8, 8]           --\n",
      "|    └─Conv2d: 2-1                       [-1, 32, 64, 64]          320\n",
      "|    └─ReLU: 2-2                         [-1, 32, 64, 64]          --\n",
      "|    └─Conv2d: 2-3                       [-1, 32, 64, 64]          9,248\n",
      "|    └─ReLU: 2-4                         [-1, 32, 64, 64]          --\n",
      "|    └─MaxPool2d: 2-5                    [-1, 32, 32, 32]          --\n",
      "|    └─Conv2d: 2-6                       [-1, 64, 32, 32]          18,496\n",
      "|    └─ReLU: 2-7                         [-1, 64, 32, 32]          --\n",
      "|    └─Conv2d: 2-8                       [-1, 64, 32, 32]          36,928\n",
      "|    └─ReLU: 2-9                         [-1, 64, 32, 32]          --\n",
      "|    └─MaxPool2d: 2-10                   [-1, 64, 16, 16]          --\n",
      "|    └─Conv2d: 2-11                      [-1, 128, 16, 16]         73,856\n",
      "|    └─ReLU: 2-12                        [-1, 128, 16, 16]         --\n",
      "|    └─Conv2d: 2-13                      [-1, 128, 16, 16]         147,584\n",
      "|    └─ReLU: 2-14                        [-1, 128, 16, 16]         --\n",
      "|    └─MaxPool2d: 2-15                   [-1, 128, 8, 8]           --\n",
      "├─Sequential: 1-2                        [-1, 1, 64, 64]           --\n",
      "|    └─Conv2d: 2-16                      [-1, 128, 8, 8]           147,584\n",
      "|    └─ReLU: 2-17                        [-1, 128, 8, 8]           --\n",
      "|    └─Conv2d: 2-18                      [-1, 128, 8, 8]           147,584\n",
      "|    └─ReLU: 2-19                        [-1, 128, 8, 8]           --\n",
      "|    └─Upsample: 2-20                    [-1, 128, 16, 16]         --\n",
      "|    └─Conv2d: 2-21                      [-1, 64, 16, 16]          73,792\n",
      "|    └─ReLU: 2-22                        [-1, 64, 16, 16]          --\n",
      "|    └─Conv2d: 2-23                      [-1, 64, 16, 16]          36,928\n",
      "|    └─ReLU: 2-24                        [-1, 64, 16, 16]          --\n",
      "|    └─Upsample: 2-25                    [-1, 64, 32, 32]          --\n",
      "|    └─Conv2d: 2-26                      [-1, 64, 32, 32]          36,928\n",
      "|    └─ReLU: 2-27                        [-1, 64, 32, 32]          --\n",
      "|    └─Conv2d: 2-28                      [-1, 64, 32, 32]          36,928\n",
      "|    └─ReLU: 2-29                        [-1, 64, 32, 32]          --\n",
      "|    └─Upsample: 2-30                    [-1, 64, 64, 64]          --\n",
      "|    └─Conv2d: 2-31                      [-1, 1, 64, 64]           577\n",
      "|    └─Sigmoid: 2-32                     [-1, 1, 64, 64]           --\n",
      "├─Sequential: 1-3                        [-1, 1, 64, 64]           --\n",
      "|    └─Conv2d: 2-33                      [-1, 128, 8, 8]           147,584\n",
      "|    └─ReLU: 2-34                        [-1, 128, 8, 8]           --\n",
      "|    └─Conv2d: 2-35                      [-1, 128, 8, 8]           147,584\n",
      "|    └─ReLU: 2-36                        [-1, 128, 8, 8]           --\n",
      "|    └─Upsample: 2-37                    [-1, 128, 16, 16]         --\n",
      "|    └─Conv2d: 2-38                      [-1, 64, 16, 16]          73,792\n",
      "|    └─ReLU: 2-39                        [-1, 64, 16, 16]          --\n",
      "|    └─Conv2d: 2-40                      [-1, 64, 16, 16]          36,928\n",
      "|    └─ReLU: 2-41                        [-1, 64, 16, 16]          --\n",
      "|    └─Upsample: 2-42                    [-1, 64, 32, 32]          --\n",
      "|    └─Conv2d: 2-43                      [-1, 64, 32, 32]          36,928\n",
      "|    └─ReLU: 2-44                        [-1, 64, 32, 32]          --\n",
      "|    └─Conv2d: 2-45                      [-1, 64, 32, 32]          36,928\n",
      "|    └─ReLU: 2-46                        [-1, 64, 32, 32]          --\n",
      "|    └─Upsample: 2-47                    [-1, 64, 64, 64]          --\n",
      "|    └─Conv2d: 2-48                      [-1, 1, 64, 64]           577\n",
      "|    └─Tanh: 2-49                        [-1, 1, 64, 64]           --\n",
      "==========================================================================================\n",
      "Total params: 1,247,074\n",
      "Trainable params: 1,247,074\n",
      "Non-trainable params: 0\n",
      "Total mult-adds (M): 403.51\n",
      "==========================================================================================\n",
      "Input size (MB): 0.02\n",
      "Forward/backward pass size (MB): 6.31\n",
      "Params size (MB): 4.76\n",
      "Estimated Total Size (MB): 11.09\n",
      "==========================================================================================\n",
      "Let's use 2 GPUs!\n"
     ]
    }
   ],
   "source": [
    "summary(model,(1,H,W),device=\"cpu\")\n",
    "\n",
    "device = torch.device(\"cuda\" if torch.cuda.is_available() else \"cpu\")\n",
    "if torch.cuda.device_count() > 1:\n",
    "    print(\"Let's use\", torch.cuda.device_count(), \"GPUs!\")\n",
    "    # dim = 0 [30, xxx] -> [10, ...], [10, ...], [10, ...] on 3 GPUs\n",
    "    model = nn.DataParallel(model) #Default all devices\n",
    "\n",
    "model = model.to(device)"
   ]
  },
  {
   "cell_type": "code",
   "execution_count": 24,
   "id": "81bb069a-85d4-4e07-92b1-3169d426f456",
   "metadata": {
    "colab": {
     "base_uri": "https://localhost:8080/"
    },
    "id": "81bb069a-85d4-4e07-92b1-3169d426f456",
    "outputId": "cc35d040-7129-41b4-e332-3bf231b16fc7"
   },
   "outputs": [
    {
     "name": "stdout",
     "output_type": "stream",
     "text": [
      "LR step size is: 1200.0 which is every 10 epochs\n"
     ]
    }
   ],
   "source": [
    "#Optimizer details\n",
    "iterations_per_epoch = np.floor((N_TRAIN-N_VALID)/BATCH_SIZE)+1 #Final batch will be less than batch size\n",
    "step_size = 10*iterations_per_epoch #Paper recommends 2-10 number of iterations, step_size is half cycle\n",
    "print(\"LR step size is:\", step_size, \"which is every %d epochs\" %(step_size/iterations_per_epoch))\n",
    "\n",
    "criterion = nn.L1Loss()\n",
    "optimizer = torch.optim.Adam(model.parameters(), lr = LR)\n",
    "scheduler = torch.optim.lr_scheduler.CyclicLR(optimizer, base_lr=LR / 10, max_lr=LR, step_size_up=step_size,\n",
    "                                              cycle_momentum=False, mode='triangular')"
   ]
  },
  {
   "cell_type": "code",
   "execution_count": 25,
   "id": "35cc4117-1413-45c7-a461-feebb94a1138",
   "metadata": {
    "id": "35cc4117-1413-45c7-a461-feebb94a1138"
   },
   "outputs": [],
   "source": [
    "#Function to update saved model if validation loss is minimum\n",
    "def update_saved_model(model, path):\n",
    "    if not os.path.isdir(path):\n",
    "        os.mkdir(path)\n",
    "    for f in os.listdir(path):\n",
    "        os.remove(os.path.join(path, f))\n",
    "    if (NGPUS>1):    \n",
    "        torch.save(model.module.state_dict(),path+'best_model.pth') #Have to save the underlying model else will always need 4 GPUs\n",
    "    else:\n",
    "        torch.save(model,path+'best_model.pth')"
   ]
  },
  {
   "cell_type": "code",
   "execution_count": 26,
   "id": "cGjoZFYSYO9O",
   "metadata": {
    "id": "cGjoZFYSYO9O"
   },
   "outputs": [],
   "source": [
    "scaler = torch.cuda.amp.GradScaler()"
   ]
  },
  {
   "cell_type": "code",
   "execution_count": 27,
   "id": "093dc10a-7732-4660-b489-7097fc7ff190",
   "metadata": {
    "id": "093dc10a-7732-4660-b489-7097fc7ff190"
   },
   "outputs": [],
   "source": [
    "def train(trainloader,metrics):\n",
    "    tot_loss = 0.0\n",
    "    loss_amp = 0.0\n",
    "    loss_ph = 0.0\n",
    "    \n",
    "    for i, (ft_images,amps,phs) in tqdm(enumerate(trainloader)):\n",
    "        ft_images = ft_images.to(device) #Move everything to device\n",
    "        amps = amps.to(device)\n",
    "        phs = phs.to(device)\n",
    "\n",
    "        pred_amps, pred_phs = model(ft_images) #Forward pass\n",
    "\n",
    "        #Compute losses\n",
    "        loss_a = criterion(pred_amps,amps) #Monitor amplitude loss\n",
    "        loss_p = criterion(pred_phs,phs) #Monitor phase loss but only within support (which may not be same as true amp)\n",
    "        loss = loss_a + loss_p #Use equiweighted amps and phase\n",
    "        \n",
    "        #loss_re = criterion(amps * torch.cos(phs), pred_amps * torch.cos(pred_phs))\n",
    "        #loss_img = criterion(amps * torch.sin(phs), pred_amps * torch.sin(pred_phs))\n",
    "        #loss = loss + loss_re + loss_img\n",
    "        #print(loss)\n",
    "        \n",
    "        #Zero current grads and do backprop\n",
    "        optimizer.zero_grad() \n",
    "        scaler.scale(loss).backward()\n",
    "        scaler.step(optimizer)\n",
    "        #optimizer.step()\n",
    "\n",
    "        tot_loss += loss.detach().item()\n",
    "        loss_amp += loss_a.detach().item()\n",
    "        loss_ph += loss_p.detach().item()\n",
    "\n",
    "        #Update the LR according to the schedule -- CyclicLR updates each batch\n",
    "        scheduler.step() \n",
    "        metrics['lrs'].append(scheduler.get_last_lr())\n",
    "        scaler.update()\n",
    "        \n",
    "        \n",
    "    #Divide cumulative loss by number of batches-- sli inaccurate because last batch is different size\n",
    "    metrics['losses'].append([tot_loss/i,loss_amp/i,loss_ph/i]) \n",
    "    \n",
    "\n",
    "def validate(validloader,metrics):\n",
    "    tot_val_loss = 0.0\n",
    "    val_loss_amp = 0.0\n",
    "    val_loss_ph = 0.0\n",
    "    for j, (ft_images,amps,phs) in enumerate(validloader):\n",
    "        ft_images = ft_images.to(device)\n",
    "        amps = amps.to(device)\n",
    "        phs = phs.to(device)\n",
    "        pred_amps, pred_phs = model(ft_images) #Forward pass\n",
    "    \n",
    "    \n",
    "        val_loss_a = criterion(pred_amps,amps) \n",
    "        val_loss_p = criterion(pred_phs,phs)\n",
    "        val_loss = val_loss_a + val_loss_p\n",
    "        \n",
    "        #loss_re = criterion(amps * torch.cos(phs), pred_amps * torch.cos(pred_phs))\n",
    "        #loss_img = criterion(amps * torch.sin(phs), pred_amps * torch.sin(pred_phs))\n",
    "        #val_loss = val_loss + loss_re + loss_img\n",
    "    \n",
    "        tot_val_loss += val_loss.detach().item()\n",
    "        val_loss_amp += val_loss_a.detach().item()\n",
    "        val_loss_ph += val_loss_p.detach().item()  \n",
    "    metrics['val_losses'].append([tot_val_loss/j,val_loss_amp/j,val_loss_ph/j])\n",
    "  \n",
    "  #Update saved model if val loss is lower\n",
    "    if(tot_val_loss/j<metrics['best_val_loss']):\n",
    "        print(\"Saving improved model after Val Loss improved from %.5f to %.5f\" %(metrics['best_val_loss'],tot_val_loss/j))\n",
    "        metrics['best_val_loss'] = tot_val_loss/j\n",
    "        update_saved_model(model, MODEL_SAVE_PATH)"
   ]
  },
  {
   "cell_type": "code",
   "execution_count": 28,
   "id": "OCVB8KfgZlVo",
   "metadata": {
    "id": "OCVB8KfgZlVo"
   },
   "outputs": [],
   "source": [
    "metrics = {'losses':[],'val_losses':[], 'lrs':[], 'best_val_loss' : np.inf}"
   ]
  },
  {
   "cell_type": "code",
   "execution_count": 29,
   "id": "1c49c9fd-de84-4bfc-b7dd-728c7ad3a2dd",
   "metadata": {
    "colab": {
     "base_uri": "https://localhost:8080/"
    },
    "id": "1c49c9fd-de84-4bfc-b7dd-728c7ad3a2dd",
    "outputId": "ca4d2a5d-1876-4204-e6ca-0c72d79a6383"
   },
   "outputs": [
    {
     "name": "stderr",
     "output_type": "stream",
     "text": [
      "0it [00:00, ?it/s]/home/skandel/miniconda3/envs/tf2/lib/python3.8/site-packages/torch/optim/lr_scheduler.py:118: UserWarning: Detected call of `lr_scheduler.step()` before `optimizer.step()`. In PyTorch 1.1.0 and later, you should call them in the opposite order: `optimizer.step()` before `lr_scheduler.step()`.  Failure to do this will result in PyTorch skipping the first value of the learning rate schedule. See more details at https://pytorch.org/docs/stable/optim.html#how-to-adjust-learning-rate\n",
      "  warnings.warn(\"Detected call of `lr_scheduler.step()` before `optimizer.step()`. \"\n",
      "120it [00:13,  8.60it/s]\n"
     ]
    },
    {
     "name": "stdout",
     "output_type": "stream",
     "text": [
      "Saving improved model after Val Loss improved from inf to 2.19118\n",
      "Epoch: 0 | FT  | Train Loss: 1.89707 | Val Loss: 2.19118\n",
      "Epoch: 0 | Amp | Train Loss: 0.1087 | Val Loss: 0.1258\n",
      "Epoch: 0 | Ph  | Train Loss: 1.788 | Val Loss: 2.065\n",
      "Epoch: 0 | Ending LR: 0.000190 \n"
     ]
    },
    {
     "name": "stderr",
     "output_type": "stream",
     "text": [
      "120it [00:11, 10.26it/s]\n"
     ]
    },
    {
     "name": "stdout",
     "output_type": "stream",
     "text": [
      "Saving improved model after Val Loss improved from 2.19118 to 2.18828\n",
      "Epoch: 1 | FT  | Train Loss: 1.89713 | Val Loss: 2.18828\n",
      "Epoch: 1 | Amp | Train Loss: 0.1087 | Val Loss: 0.1258\n",
      "Epoch: 1 | Ph  | Train Loss: 1.788 | Val Loss: 2.062\n",
      "Epoch: 1 | Ending LR: 0.000280 \n"
     ]
    },
    {
     "name": "stderr",
     "output_type": "stream",
     "text": [
      "120it [00:11, 10.36it/s]\n"
     ]
    },
    {
     "name": "stdout",
     "output_type": "stream",
     "text": [
      "Epoch: 2 | FT  | Train Loss: 1.89709 | Val Loss: 2.18908\n",
      "Epoch: 2 | Amp | Train Loss: 0.1087 | Val Loss: 0.1259\n",
      "Epoch: 2 | Ph  | Train Loss: 1.788 | Val Loss: 2.063\n",
      "Epoch: 2 | Ending LR: 0.000370 \n"
     ]
    },
    {
     "name": "stderr",
     "output_type": "stream",
     "text": [
      "120it [00:11, 10.28it/s]\n"
     ]
    },
    {
     "name": "stdout",
     "output_type": "stream",
     "text": [
      "Epoch: 3 | FT  | Train Loss: 1.89710 | Val Loss: 2.18875\n",
      "Epoch: 3 | Amp | Train Loss: 0.1087 | Val Loss: 0.1257\n",
      "Epoch: 3 | Ph  | Train Loss: 1.788 | Val Loss: 2.063\n",
      "Epoch: 3 | Ending LR: 0.000460 \n"
     ]
    },
    {
     "name": "stderr",
     "output_type": "stream",
     "text": [
      "120it [00:11, 10.28it/s]\n"
     ]
    },
    {
     "name": "stdout",
     "output_type": "stream",
     "text": [
      "Epoch: 4 | FT  | Train Loss: 1.89708 | Val Loss: 2.18873\n",
      "Epoch: 4 | Amp | Train Loss: 0.1087 | Val Loss: 0.1257\n",
      "Epoch: 4 | Ph  | Train Loss: 1.788 | Val Loss: 2.063\n",
      "Epoch: 4 | Ending LR: 0.000550 \n"
     ]
    },
    {
     "name": "stderr",
     "output_type": "stream",
     "text": [
      "120it [00:11, 10.21it/s]\n"
     ]
    },
    {
     "name": "stdout",
     "output_type": "stream",
     "text": [
      "Epoch: 5 | FT  | Train Loss: 1.89714 | Val Loss: 2.19107\n",
      "Epoch: 5 | Amp | Train Loss: 0.1087 | Val Loss: 0.1259\n",
      "Epoch: 5 | Ph  | Train Loss: 1.788 | Val Loss: 2.065\n",
      "Epoch: 5 | Ending LR: 0.000640 \n"
     ]
    },
    {
     "name": "stderr",
     "output_type": "stream",
     "text": [
      "120it [00:11, 10.26it/s]\n"
     ]
    },
    {
     "name": "stdout",
     "output_type": "stream",
     "text": [
      "Saving improved model after Val Loss improved from 2.18828 to 2.18722\n",
      "Epoch: 6 | FT  | Train Loss: 1.89704 | Val Loss: 2.18722\n",
      "Epoch: 6 | Amp | Train Loss: 0.1087 | Val Loss: 0.1257\n",
      "Epoch: 6 | Ph  | Train Loss: 1.788 | Val Loss: 2.062\n",
      "Epoch: 6 | Ending LR: 0.000730 \n"
     ]
    },
    {
     "name": "stderr",
     "output_type": "stream",
     "text": [
      "120it [00:11, 10.23it/s]\n"
     ]
    },
    {
     "name": "stdout",
     "output_type": "stream",
     "text": [
      "Epoch: 7 | FT  | Train Loss: 1.89715 | Val Loss: 2.19042\n",
      "Epoch: 7 | Amp | Train Loss: 0.1087 | Val Loss: 0.1258\n",
      "Epoch: 7 | Ph  | Train Loss: 1.788 | Val Loss: 2.065\n",
      "Epoch: 7 | Ending LR: 0.000820 \n"
     ]
    },
    {
     "name": "stderr",
     "output_type": "stream",
     "text": [
      "120it [00:11, 10.26it/s]\n"
     ]
    },
    {
     "name": "stdout",
     "output_type": "stream",
     "text": [
      "Epoch: 8 | FT  | Train Loss: 1.89714 | Val Loss: 2.18945\n",
      "Epoch: 8 | Amp | Train Loss: 0.1087 | Val Loss: 0.1258\n",
      "Epoch: 8 | Ph  | Train Loss: 1.788 | Val Loss: 2.064\n",
      "Epoch: 8 | Ending LR: 0.000910 \n"
     ]
    },
    {
     "name": "stderr",
     "output_type": "stream",
     "text": [
      "47it [00:04, 10.19it/s]\n"
     ]
    },
    {
     "ename": "KeyboardInterrupt",
     "evalue": "",
     "output_type": "error",
     "traceback": [
      "\u001b[0;31m---------------------------------------------------------------------------\u001b[0m",
      "\u001b[0;31mKeyboardInterrupt\u001b[0m                         Traceback (most recent call last)",
      "\u001b[0;32m<ipython-input-29-bd33a85834df>\u001b[0m in \u001b[0;36m<module>\u001b[0;34m\u001b[0m\n\u001b[1;32m      5\u001b[0m \u001b[0;34m\u001b[0m\u001b[0m\n\u001b[1;32m      6\u001b[0m   \u001b[0;31m#Training loop\u001b[0m\u001b[0;34m\u001b[0m\u001b[0;34m\u001b[0m\u001b[0;34m\u001b[0m\u001b[0m\n\u001b[0;32m----> 7\u001b[0;31m   \u001b[0mtrain\u001b[0m\u001b[0;34m(\u001b[0m\u001b[0mtrainloader\u001b[0m\u001b[0;34m,\u001b[0m\u001b[0mmetrics\u001b[0m\u001b[0;34m)\u001b[0m\u001b[0;34m\u001b[0m\u001b[0;34m\u001b[0m\u001b[0m\n\u001b[0m\u001b[1;32m      8\u001b[0m \u001b[0;34m\u001b[0m\u001b[0m\n\u001b[1;32m      9\u001b[0m \u001b[0;34m\u001b[0m\u001b[0m\n",
      "\u001b[0;32m<ipython-input-27-926d5b46a56c>\u001b[0m in \u001b[0;36mtrain\u001b[0;34m(trainloader, metrics)\u001b[0m\n\u001b[1;32m     23\u001b[0m         \u001b[0;31m#Zero current grads and do backprop\u001b[0m\u001b[0;34m\u001b[0m\u001b[0;34m\u001b[0m\u001b[0;34m\u001b[0m\u001b[0m\n\u001b[1;32m     24\u001b[0m         \u001b[0moptimizer\u001b[0m\u001b[0;34m.\u001b[0m\u001b[0mzero_grad\u001b[0m\u001b[0;34m(\u001b[0m\u001b[0;34m)\u001b[0m\u001b[0;34m\u001b[0m\u001b[0;34m\u001b[0m\u001b[0m\n\u001b[0;32m---> 25\u001b[0;31m         \u001b[0mscaler\u001b[0m\u001b[0;34m.\u001b[0m\u001b[0mscale\u001b[0m\u001b[0;34m(\u001b[0m\u001b[0mloss\u001b[0m\u001b[0;34m)\u001b[0m\u001b[0;34m.\u001b[0m\u001b[0mbackward\u001b[0m\u001b[0;34m(\u001b[0m\u001b[0;34m)\u001b[0m\u001b[0;34m\u001b[0m\u001b[0;34m\u001b[0m\u001b[0m\n\u001b[0m\u001b[1;32m     26\u001b[0m         \u001b[0mscaler\u001b[0m\u001b[0;34m.\u001b[0m\u001b[0mstep\u001b[0m\u001b[0;34m(\u001b[0m\u001b[0moptimizer\u001b[0m\u001b[0;34m)\u001b[0m\u001b[0;34m\u001b[0m\u001b[0;34m\u001b[0m\u001b[0m\n\u001b[1;32m     27\u001b[0m         \u001b[0;31m#optimizer.step()\u001b[0m\u001b[0;34m\u001b[0m\u001b[0;34m\u001b[0m\u001b[0;34m\u001b[0m\u001b[0m\n",
      "\u001b[0;32m~/miniconda3/envs/tf2/lib/python3.8/site-packages/torch/tensor.py\u001b[0m in \u001b[0;36mbackward\u001b[0;34m(self, gradient, retain_graph, create_graph)\u001b[0m\n\u001b[1;32m    183\u001b[0m                 \u001b[0mproducts\u001b[0m\u001b[0;34m.\u001b[0m \u001b[0mDefaults\u001b[0m \u001b[0mto\u001b[0m\u001b[0;31m \u001b[0m\u001b[0;31m`\u001b[0m\u001b[0;31m`\u001b[0m\u001b[0;32mFalse\u001b[0m\u001b[0;31m`\u001b[0m\u001b[0;31m`\u001b[0m\u001b[0;34m.\u001b[0m\u001b[0;34m\u001b[0m\u001b[0;34m\u001b[0m\u001b[0m\n\u001b[1;32m    184\u001b[0m         \"\"\"\n\u001b[0;32m--> 185\u001b[0;31m         \u001b[0mtorch\u001b[0m\u001b[0;34m.\u001b[0m\u001b[0mautograd\u001b[0m\u001b[0;34m.\u001b[0m\u001b[0mbackward\u001b[0m\u001b[0;34m(\u001b[0m\u001b[0mself\u001b[0m\u001b[0;34m,\u001b[0m \u001b[0mgradient\u001b[0m\u001b[0;34m,\u001b[0m \u001b[0mretain_graph\u001b[0m\u001b[0;34m,\u001b[0m \u001b[0mcreate_graph\u001b[0m\u001b[0;34m)\u001b[0m\u001b[0;34m\u001b[0m\u001b[0;34m\u001b[0m\u001b[0m\n\u001b[0m\u001b[1;32m    186\u001b[0m \u001b[0;34m\u001b[0m\u001b[0m\n\u001b[1;32m    187\u001b[0m     \u001b[0;32mdef\u001b[0m \u001b[0mregister_hook\u001b[0m\u001b[0;34m(\u001b[0m\u001b[0mself\u001b[0m\u001b[0;34m,\u001b[0m \u001b[0mhook\u001b[0m\u001b[0;34m)\u001b[0m\u001b[0;34m:\u001b[0m\u001b[0;34m\u001b[0m\u001b[0;34m\u001b[0m\u001b[0m\n",
      "\u001b[0;32m~/miniconda3/envs/tf2/lib/python3.8/site-packages/torch/autograd/__init__.py\u001b[0m in \u001b[0;36mbackward\u001b[0;34m(tensors, grad_tensors, retain_graph, create_graph, grad_variables)\u001b[0m\n\u001b[1;32m    123\u001b[0m         \u001b[0mretain_graph\u001b[0m \u001b[0;34m=\u001b[0m \u001b[0mcreate_graph\u001b[0m\u001b[0;34m\u001b[0m\u001b[0;34m\u001b[0m\u001b[0m\n\u001b[1;32m    124\u001b[0m \u001b[0;34m\u001b[0m\u001b[0m\n\u001b[0;32m--> 125\u001b[0;31m     Variable._execution_engine.run_backward(\n\u001b[0m\u001b[1;32m    126\u001b[0m         \u001b[0mtensors\u001b[0m\u001b[0;34m,\u001b[0m \u001b[0mgrad_tensors\u001b[0m\u001b[0;34m,\u001b[0m \u001b[0mretain_graph\u001b[0m\u001b[0;34m,\u001b[0m \u001b[0mcreate_graph\u001b[0m\u001b[0;34m,\u001b[0m\u001b[0;34m\u001b[0m\u001b[0;34m\u001b[0m\u001b[0m\n\u001b[1;32m    127\u001b[0m         allow_unreachable=True)  # allow_unreachable flag\n",
      "\u001b[0;31mKeyboardInterrupt\u001b[0m: "
     ]
    }
   ],
   "source": [
    "\n",
    "for epoch in range (100):#EPOCHS):\n",
    "    \n",
    "  #Set model to train mode\n",
    "  model.train() \n",
    "    \n",
    "  #Training loop\n",
    "  train(trainloader,metrics)\n",
    "\n",
    "    \n",
    "  #Switch model to eval mode\n",
    "  model.eval()\n",
    "    \n",
    "  #Validation loop\n",
    "  validate(validloader,metrics)\n",
    "  \n",
    "  print('Epoch: %d | FT  | Train Loss: %.5f | Val Loss: %.5f' %(epoch, metrics['losses'][-1][0], metrics['val_losses'][-1][0]))\n",
    "  print('Epoch: %d | Amp | Train Loss: %.4f | Val Loss: %.4f' %(epoch, metrics['losses'][-1][1], metrics['val_losses'][-1][1]))\n",
    "  print('Epoch: %d | Ph  | Train Loss: %.3f | Val Loss: %.3f' %(epoch, metrics['losses'][-1][2], metrics['val_losses'][-1][2]))\n",
    "  print('Epoch: %d | Ending LR: %.6f ' %(epoch, metrics['lrs'][-1][0]))"
   ]
  },
  {
   "cell_type": "code",
   "execution_count": 30,
   "id": "e5d43499-bc58-469b-93ac-7ec471697eca",
   "metadata": {
    "colab": {
     "base_uri": "https://localhost:8080/",
     "height": 311
    },
    "id": "e5d43499-bc58-469b-93ac-7ec471697eca",
    "outputId": "4820e9cc-e561-44e0-8b43-0b2f44ba65db"
   },
   "outputs": [
    {
     "data": {
      "text/plain": [
       "Text(0.5, 0, 'Epoch')"
      ]
     },
     "execution_count": 30,
     "metadata": {},
     "output_type": "execute_result"
    },
    {
     "name": "stderr",
     "output_type": "stream",
     "text": [
      "findfont: Font family ['Times New Roman'] not found. Falling back to DejaVu Sans.\n"
     ]
    },
    {
     "data": {
      "image/png": "[encoded data removed]",
      "text/plain": [
       "<Figure size 432x288 with 1 Axes>"
      ]
     },
     "metadata": {},
     "output_type": "display_data"
    }
   ],
   "source": [
    "batches = np.linspace(0,len(metrics['lrs']),len(metrics['lrs'])+1)\n",
    "epoch_list = batches/iterations_per_epoch\n",
    "\n",
    "plt.plot(epoch_list[1:],metrics['lrs'], 'C3-')\n",
    "plt.grid()\n",
    "plt.ylabel(\"Learning rate\")\n",
    "plt.xlabel(\"Epoch\")"
   ]
  },
  {
   "cell_type": "code",
   "execution_count": 31,
   "id": "becec486-c347-4170-a3c7-99c040b0d0b9",
   "metadata": {
    "colab": {
     "base_uri": "https://localhost:8080/",
     "height": 603
    },
    "id": "becec486-c347-4170-a3c7-99c040b0d0b9",
    "outputId": "5335c0ec-cf41-4b90-cf27-2a7d2c04aef7"
   },
   "outputs": [
    {
     "data": {
      "text/plain": [
       "Text(0.5, 45.5, 'Epochs')"
      ]
     },
     "execution_count": 31,
     "metadata": {},
     "output_type": "execute_result"
    },
    {
     "data": {
      "image/png": "[encoded data removed]",
      "text/plain": [
       "<Figure size 1080x576 with 3 Axes>"
      ]
     },
     "metadata": {},
     "output_type": "display_data"
    }
   ],
   "source": [
    "losses_arr = np.array(metrics['losses'])\n",
    "val_losses_arr = np.array(metrics['val_losses'])\n",
    "losses_arr.shape\n",
    "fig, ax = plt.subplots(3,sharex=True, figsize=(15, 8))\n",
    "ax[0].plot(losses_arr[:,0], 'C3o-', label = \"Total Train loss\")\n",
    "ax[0].plot(val_losses_arr[:,0], 'C0o-', label = \"Total Val loss\")\n",
    "ax[0].set(ylabel='Loss')\n",
    "ax[0].grid()\n",
    "ax[0].legend(loc='center right', bbox_to_anchor=(1.5, 0.5))\n",
    "ax[1].plot(losses_arr[:,1], 'C3o-', label = \"Train Amp loss\")\n",
    "ax[1].plot(val_losses_arr[:,1], 'C0o-', label = \"Val Amp loss\")\n",
    "ax[1].set(ylabel='Loss')\n",
    "ax[1].grid()\n",
    "ax[1].legend(loc='center right', bbox_to_anchor=(1.5, 0.5))\n",
    "ax[2].plot(losses_arr[:,2], 'C3o-', label = \"Train Ph loss\")\n",
    "ax[2].plot(val_losses_arr[:,2], 'C0o-', label = \"Val Ph loss\")\n",
    "ax[2].set(ylabel='Loss')\n",
    "ax[2].grid()\n",
    "ax[2].legend(loc='center right', bbox_to_anchor=(1.5, 0.5))\n",
    "\n",
    "plt.tight_layout()\n",
    "plt.xlabel(\"Epochs\")"
   ]
  },
  {
   "cell_type": "code",
   "execution_count": 32,
   "id": "b3fb3e92-4015-4274-940d-5022a944f698",
   "metadata": {
    "colab": {
     "base_uri": "https://localhost:8080/"
    },
    "id": "b3fb3e92-4015-4274-940d-5022a944f698",
    "outputId": "598f9dd8-4401-4d0d-c779-9b052ea382b4"
   },
   "outputs": [
    {
     "name": "stderr",
     "output_type": "stream",
     "text": [
      "/home/skandel/miniconda3/envs/tf2/lib/python3.8/site-packages/torch/nn/functional.py:3118: UserWarning: Default upsampling behavior when mode=bilinear is changed to align_corners=False since 0.4.0. Please specify align_corners=True if the old behavior is desired. See the documentation of nn.Upsample for details.\n",
      "  warnings.warn(\"Default upsampling behavior when mode={} is changed \"\n"
     ]
    }
   ],
   "source": [
    "model.eval() #imp when have dropout etc\n",
    "amps_eval = []\n",
    "phs_eval = []\n",
    "for i, ft_images in enumerate(testloader):\n",
    "    ft_images = ft_images[0].to(device)\n",
    "    amp_eval, ph_eval = model(ft_images)\n",
    "    for j in range(ft_images.shape[0]):\n",
    "        amps_eval.append(amp_eval[j].detach().to(\"cpu\").numpy())\n",
    "        phs_eval.append(ph_eval[j].detach().to(\"cpu\").numpy())"
   ]
  },
  {
   "cell_type": "code",
   "execution_count": 102,
   "id": "74ab188d-98d5-4614-ac60-3061d935edf2",
   "metadata": {},
   "outputs": [],
   "source": [
    "#img_ft_eval = np.array(amps_eval) * np.exp(1j * np.array(phs_eval))\n",
    "img_eval = np.fft.fftshift(np.fft.ifft2(img_ft_eval), axes=(-1, -2) )"
   ]
  },
  {
   "cell_type": "code",
   "execution_count": 106,
   "id": "3180d061-403f-40f4-a1d2-138c7eb36b07",
   "metadata": {},
   "outputs": [
    {
     "data": {
      "text/plain": [
       "(3600, 1, 64, 64)"
      ]
     },
     "execution_count": 106,
     "metadata": {},
     "output_type": "execute_result"
    }
   ],
   "source": [
    "np.array(amps_eval).shape"
   ]
  },
  {
   "cell_type": "code",
   "execution_count": 33,
   "id": "15627dd5-d0a1-431d-919f-55af911e7657",
   "metadata": {},
   "outputs": [
    {
     "data": {
      "text/plain": [
       "<matplotlib.colorbar.Colorbar at 0x7f45b63b2b20>"
      ]
     },
     "execution_count": 33,
     "metadata": {},
     "output_type": "execute_result"
    },
    {
     "data": {
      "image/png": "[encoded data removed]",
      "text/plain": [
       "<Figure size 432x288 with 2 Axes>"
      ]
     },
     "metadata": {},
     "output_type": "display_data"
    }
   ],
   "source": [
    "plt.pcolormesh(np.array(amps_eval)[10,0])\n",
    "plt.colorbar()"
   ]
  },
  {
   "cell_type": "code",
   "execution_count": 42,
   "id": "fcf3ce4c-4331-4c8b-af98-5f2c6417bacc",
   "metadata": {
    "colab": {
     "base_uri": "https://localhost:8080/"
    },
    "id": "fcf3ce4c-4331-4c8b-af98-5f2c6417bacc",
    "outputId": "8fa05934-fdd7-4f92-ff19-cd4959640056"
   },
   "outputs": [
    {
     "name": "stdout",
     "output_type": "stream",
     "text": [
      "(3600, 64, 64) float16\n",
      "(3600, 64, 64) float16\n"
     ]
    }
   ],
   "source": [
    "amps_eval = np.array(amps_eval).squeeze()\n",
    "phs_eval = np.array(phs_eval).squeeze()\n",
    "print(amps_eval.shape, amps_eval.dtype)\n",
    "print(phs_eval.shape, phs_eval.dtype)"
   ]
  },
  {
   "cell_type": "code",
   "execution_count": 43,
   "id": "30e9a5d1-0690-4909-b959-10c88b1ec666",
   "metadata": {
    "colab": {
     "base_uri": "https://localhost:8080/",
     "height": 633
    },
    "id": "30e9a5d1-0690-4909-b959-10c88b1ec666",
    "outputId": "bfbba6bd-e6d7-483b-9fc8-a4228dc845ad"
   },
   "outputs": [
    {
     "ename": "SyntaxError",
     "evalue": "unmatched ')' (<ipython-input-43-25eb4a7b0a85>, line 25)",
     "output_type": "error",
     "traceback": [
      "\u001b[0;36m  File \u001b[0;32m\"<ipython-input-43-25eb4a7b0a85>\"\u001b[0;36m, line \u001b[0;32m25\u001b[0m\n\u001b[0;31m    im=ax[1,i].imshow(Y_I_test[j]).reshape(h, w))\u001b[0m\n\u001b[0m                                                ^\u001b[0m\n\u001b[0;31mSyntaxError\u001b[0m\u001b[0;31m:\u001b[0m unmatched ')'\n"
     ]
    }
   ],
   "source": [
    "h,w = 64,64\n",
    "ntest=amps_eval.shape[0]\n",
    "plt.viridis()\n",
    "n = 5\n",
    "f,ax=plt.subplots(7,n,figsize=(20, 15))\n",
    "plt.gcf().text(0.02, 0.85, \"Input\", fontsize=20)\n",
    "plt.gcf().text(0.02, 0.72, \"True I\", fontsize=20)\n",
    "plt.gcf().text(0.02, 0.6, \"Predicted I\", fontsize=20)\n",
    "plt.gcf().text(0.02, 0.5, \"Difference I\", fontsize=20)\n",
    "plt.gcf().text(0.02, 0.4, \"True Phi\", fontsize=20)\n",
    "plt.gcf().text(0.02, 0.27, \"Predicted Phi\", fontsize=20)\n",
    "plt.gcf().text(0.02, 0.17, \"Difference Phi\", fontsize=20)\n",
    "\n",
    "for i in range(0,n):\n",
    "    j=int(round(np.random.rand()*ntest))\n",
    "\n",
    "        # display FT\n",
    "\n",
    "    im=ax[0,i].imshow(np.log10(X_test[j].reshape(h, w)+1))\n",
    "    plt.colorbar(im, ax=ax[0,i], format='%.2f')\n",
    "    ax[0,i].get_xaxis().set_visible(False)\n",
    "    ax[0,i].get_yaxis().set_visible(False)\n",
    "    \n",
    "    # display original intens\n",
    "    im=ax[1,i].imshow(Y_I_test[j]).reshape(h, w))\n",
    "    plt.colorbar(im, ax=ax[1,i], format='%.2f')\n",
    "    ax[1,i].get_xaxis().set_visible(False)\n",
    "    ax[1,i].get_yaxis().set_visible(False)\n",
    "    \n",
    "    # display predicted intens\n",
    "    im=ax[2,i].imshow(amps_eval[j].reshape(h, w).astype('float32'))\n",
    "    plt.colorbar(im, ax=ax[2,i], format='%.2f')\n",
    "    ax[2,i].get_xaxis().set_visible(False)\n",
    "    ax[2,i].get_yaxis().set_visible(False)\n",
    "    \n",
    "        # display original phase\n",
    "    im=ax[4,i].imshow(Y_phi_test[j].reshape(h, w))\n",
    "    plt.colorbar(im, ax=ax[4,i], format='%.2f')\n",
    "    ax[4,i].get_xaxis().set_visible(False)\n",
    "    ax[4,i].get_yaxis().set_visible(False)\n",
    "    \n",
    "    # display predicted phase\n",
    "    im=ax[5,i].imshow(phs_eval[j].reshape(h, w).astype('float32'))\n",
    "    plt.colorbar(im, ax=ax[5,i], format='%.2f')\n",
    "    ax[5,i].get_xaxis().set_visible(False)\n",
    "    ax[5,i].get_yaxis().set_visible(False)\n",
    "    \n",
    "    \n",
    "    #Difference in amplitude\n",
    "    im=ax[3,i].imshow(Y_I_test[j].reshape(h, w)-amps[j].reshape(h, w))\n",
    "    plt.colorbar(im, ax=ax[3,i], format='%.2f')\n",
    "    ax[3,i].get_xaxis().set_visible(False)\n",
    "    ax[3,i].get_yaxis().set_visible(False)\n",
    "    \n",
    "    # Difference in phase\n",
    "    im=ax[6,i].imshow(Y_phi_test[j].reshape(h, w)-phs[j].reshape(h, w))\n",
    "    plt.colorbar(im, ax=ax[6,i], format='%.2f')\n",
    "    ax[6,i].get_xaxis().set_visible(False)\n",
    "    ax[6,i].get_yaxis().set_visible(False)\n",
    "    \n",
    "plt.show()"
   ]
  },
  {
   "cell_type": "code",
   "execution_count": 75,
   "id": "bf4006de-0a58-46cf-a37d-db801daf2927",
   "metadata": {
    "id": "bf4006de-0a58-46cf-a37d-db801daf2927"
   },
   "outputs": [],
   "source": [
    "point_size = 3\n",
    "overlap = 4*point_size"
   ]
  },
  {
   "cell_type": "code",
   "execution_count": 76,
   "id": "deb6cfc8-7984-4fc5-afa0-da77fc6a6397",
   "metadata": {
    "id": "deb6cfc8-7984-4fc5-afa0-da77fc6a6397"
   },
   "outputs": [],
   "source": [
    "tst_side = 60\n",
    "\n",
    "composite_amp = np.zeros((tst_side*point_size+overlap,tst_side*point_size+overlap),float)\n",
    "ctr = np.zeros_like(composite_amp)\n",
    "data_reshaped = amps.reshape(tst_side,tst_side,64,64)[:,:,32-int(overlap/2):32+int(overlap/2),\n",
    "                                                     32-int(overlap/2):32+int(overlap/2)]\n",
    "\n",
    "for i in range(tst_side):\n",
    "    for j in range(tst_side):\n",
    "        composite_amp[point_size*i:point_size*i+overlap, point_size*j:point_size*j+overlap] += data_reshaped[i,j]\n",
    "        ctr[point_size*i:point_size*i+overlap, point_size*j:point_size*j+overlap] +=1"
   ]
  },
  {
   "cell_type": "code",
   "execution_count": 77,
   "id": "9af43076-8181-42fe-bda9-e8a516387b3e",
   "metadata": {
    "id": "9af43076-8181-42fe-bda9-e8a516387b3e"
   },
   "outputs": [],
   "source": [
    "\n",
    "composite_phase = np.zeros((tst_side*point_size+overlap,tst_side*point_size+overlap),float)\n",
    "ctr = np.zeros_like(composite_phase)\n",
    "data_reshaped = phs.reshape(tst_side,tst_side,64,64)[:,:,32-int(overlap/2):32+int(overlap/2),\n",
    "                                                     32-int(overlap/2):32+int(overlap/2)]\n",
    "\n",
    "for i in range(tst_side):\n",
    "    for j in range(tst_side):\n",
    "        composite_phase[point_size*i:point_size*i+overlap, point_size*j:point_size*j+overlap] += data_reshaped[i,j]\n",
    "        ctr[point_size*i:point_size*i+overlap, point_size*j:point_size*j+overlap] +=1"
   ]
  },
  {
   "cell_type": "code",
   "execution_count": 78,
   "id": "bc06a55a-7671-4e4d-98ff-742f177620c5",
   "metadata": {
    "id": "bc06a55a-7671-4e4d-98ff-742f177620c5"
   },
   "outputs": [],
   "source": [
    "stitched_phase = composite_phase[int(overlap/2):-int(overlap/2), int(overlap/2):-int(overlap/2)]/ctr[int(overlap/2)\n",
    "                                                                    :-int(overlap/2), int(overlap/2):-int(overlap/2)]\n",
    "\n",
    "stitched_amp = composite_amp[int(overlap/2):-int(overlap/2), int(overlap/2):-int(overlap/2)]/ctr[int(overlap/2)\n",
    "                                                                    :-int(overlap/2), int(overlap/2):-int(overlap/2)]\n",
    "\n",
    "stitched_amp_down = resize(stitched_amp, (60,60), preserve_range=True, anti_aliasing=True)\n",
    "stitched_phase_down = resize(stitched_phase, (60,60), preserve_range=True, anti_aliasing=True)"
   ]
  },
  {
   "cell_type": "code",
   "execution_count": 79,
   "id": "a3a9e979-a03b-4488-8bde-015e9fff387d",
   "metadata": {
    "id": "a3a9e979-a03b-4488-8bde-015e9fff387d"
   },
   "outputs": [],
   "source": [
    "true_amp = Y_I_test.reshape(NLTEST,NLTEST,64,64)\n",
    "true_ph = Y_phi_test.reshape(NLTEST,NLTEST,64,64)"
   ]
  },
  {
   "cell_type": "code",
   "execution_count": 80,
   "id": "c31ecf79-9a94-4f13-a2f6-cd74c954a297",
   "metadata": {},
   "outputs": [
    {
     "data": {
      "image/png": "[encoded data removed]",
      "text/plain": [
       "<Figure size 1440x864 with 6 Axes>"
      ]
     },
     "metadata": {},
     "output_type": "display_data"
    }
   ],
   "source": [
    "plot3([true_amp[:,:,32,32],stitched_amp_down,stitched_amp_down-true_amp[:,:,32,32]],[])"
   ]
  },
  {
   "cell_type": "code",
   "execution_count": 81,
   "id": "QPa_86EPE6H_",
   "metadata": {
    "colab": {
     "base_uri": "https://localhost:8080/"
    },
    "id": "QPa_86EPE6H_",
    "outputId": "6fc25bdf-d65c-432c-82e9-790a5d0be3b4"
   },
   "outputs": [
    {
     "name": "stdout",
     "output_type": "stream",
     "text": [
      "MSE in amplitude:  6.840107526771372e-05\n",
      "MSE in phase:  0.08513259011870196\n"
     ]
    }
   ],
   "source": [
    "from sklearn.metrics import mean_squared_error as mse\n",
    "print (\"MSE in amplitude: \", mse(stitched_amp_down, true_amp[:,:,32,32]))\n",
    "print (\"MSE in phase: \", mse(stitched_phase_down, true_ph[:,:,32,32]))"
   ]
  },
  {
   "cell_type": "code",
   "execution_count": 88,
   "id": "74bb831c-9e62-4e71-8fa5-94abd5c846b3",
   "metadata": {},
   "outputs": [],
   "source": [
    "true_img = true_amp * np.exp(1j * true_ph)\n",
    "stitched_img = stitched_amp_down * np.exp(1j * stitched_phase_down)"
   ]
  },
  {
   "cell_type": "code",
   "execution_count": 92,
   "id": "1c6b0d22-f68e-46e3-83f7-e9fb4375b976",
   "metadata": {},
   "outputs": [
    {
     "name": "stderr",
     "output_type": "stream",
     "text": [
      "/home/skandel/miniconda3/envs/tf2/lib/python3.8/site-packages/skimage/feature/__init__.py:45: skimage_deprecation: Function ``register_translation`` is deprecated and will be removed in version 0.19. Use ``skimage.registration.phase_cross_correlation`` instead.\n",
      "  removed_version='0.19')\n"
     ]
    },
    {
     "data": {
      "text/plain": [
       "(array([0., 0.]), 0.23366846887560572, 0.1796630596664813)"
      ]
     },
     "execution_count": 92,
     "metadata": {},
     "output_type": "execute_result"
    }
   ],
   "source": [
    "register_translation(true_img[:,:,32, 32], stitched_img)"
   ]
  },
  {
   "cell_type": "code",
   "execution_count": 91,
   "id": "1261120b-11e2-4f18-894d-eb286defd44d",
   "metadata": {},
   "outputs": [
    {
     "data": {
      "text/plain": [
       "(60, 60)"
      ]
     },
     "execution_count": 91,
     "metadata": {},
     "output_type": "execute_result"
    }
   ],
   "source": [
    "true_img[:,:,32,32].shape, stitched_img"
   ]
  },
  {
   "cell_type": "code",
   "execution_count": 85,
   "id": "aa279943-5546-454c-99e3-96c9b3462dc8",
   "metadata": {
    "id": "aa279943-5546-454c-99e3-96c9b3462dc8"
   },
   "outputs": [
    {
     "ename": "ModuleNotFoundError",
     "evalue": "No module named 'skimage.features'",
     "output_type": "error",
     "traceback": [
      "\u001b[0;31m---------------------------------------------------------------------------\u001b[0m",
      "\u001b[0;31mModuleNotFoundError\u001b[0m                       Traceback (most recent call last)",
      "\u001b[0;32m<ipython-input-85-3946315b1238>\u001b[0m in \u001b[0;36m<module>\u001b[0;34m\u001b[0m\n\u001b[0;32m----> 1\u001b[0;31m \u001b[0;32mfrom\u001b[0m \u001b[0mskimage\u001b[0m\u001b[0;34m.\u001b[0m\u001b[0mfeatures\u001b[0m \u001b[0;32mimport\u001b[0m \u001b[0mregister_translation\u001b[0m\u001b[0;34m\u001b[0m\u001b[0;34m\u001b[0m\u001b[0m\n\u001b[0m",
      "\u001b[0;31mModuleNotFoundError\u001b[0m: No module named 'skimage.features'"
     ]
    }
   ],
   "source": [
    "from skimage.features import register_translation"
   ]
  },
  {
   "cell_type": "code",
   "execution_count": 87,
   "id": "57d14bbe-8a55-4aad-94af-1c22532910ff",
   "metadata": {},
   "outputs": [],
   "source": [
    "from skimage.feature import register_translation"
   ]
  },
  {
   "cell_type": "code",
   "execution_count": null,
   "id": "63ef1556-3101-404e-8e8a-d7225459b7db",
   "metadata": {},
   "outputs": [],
   "source": []
  }
 ],
 "metadata": {
  "accelerator": "GPU",
  "colab": {
   "name": "train.ipynb",
   "provenance": []
  },
  "kernelspec": {
   "display_name": "Python 3",
   "language": "python",
   "name": "python3"
  },
  "language_info": {
   "codemirror_mode": {
    "name": "ipython",
    "version": 3
   },
   "file_extension": ".py",
   "mimetype": "text/x-python",
   "name": "python",
   "nbconvert_exporter": "python",
   "pygments_lexer": "ipython3",
   "version": "3.8.10"
  }
 },
 "nbformat": 4,
 "nbformat_minor": 5
}
